{
 "cells": [
  {
   "cell_type": "markdown",
   "id": "5c41acb2-73df-44d7-83f6-f9caaf3557b4",
   "metadata": {
    "tags": []
   },
   "source": [
    "# __Identifying Key Features of Shortage in Healthcare Workforce__\n",
    "\n",
    "## __Team a10__\n",
    "\n",
    "### _Source: Health Resources & Services Administration data warehouse (link: https://data.hrsa.gov/topics/health-workforce/shortage-areas)_"
   ]
  },
  {
   "cell_type": "markdown",
   "id": "cad73bfb-8949-41fe-813e-63c19c4a013e",
   "metadata": {},
   "source": [
    "## __I Proposal objective__\n",
    "Our objective is to analyze key characteristics of healthcare workforce shortage in different states in United States in the past 30 years. We use time series analysis and summary statistics on a challenging dataset composed of workforce shortage data reported by medical facilities and communities in the U.S. Our analysis can assist in predicting shortages, and provide insights for preventing or reducing them.\n",
    "    "
   ]
  },
  {
   "cell_type": "markdown",
   "id": "d4517230-d6e5-4289-a517-3639189347c2",
   "metadata": {
    "tags": []
   },
   "source": [
    "## __II Data Source__\n",
    "Health Professional Shortage Area (HPSA) is a project mapping geographic areas, populations, or facilities with a shortage of primary care, dental, or mental health providers and services across the U.S. \n",
    "It is run since 1978 by the Health Resources and Services Administration (HRSA), a federal agency under the U.S. Department of Health and Human Services.\n",
    "The project's mission is \"*to improve health outcomes and achieve health equity through access to quality services, a skilled health workforce, and innovative, high-value programs.*\"\n",
    "\n",
    "The database helps over 34 federal programs in data-driven decision making and resource allocation. For example, National Health Service Corps – a program bringing healthcare clinicians to people with limited access to healthcare – only works in designated HPSAs.  \n",
    "\n",
    "The original data includes 65 columns and nearly 65,000 rows. Each row represents an HPSA designation (a medical facility, a geographic location, or a specific population), which was designated by HRSA as a shortage area. The columns include information in the following main categories: medical-related (shortage level, type of facility); technical details of the designation/withdrawal of designation, including HPSA score (0-25);  geographic characteristics (longitude/latitude coordinates, city/county/state, rural classification, distance to the nearest medical facility; and demographics (socio-economic status of populations, type of community).\n",
    "\n",
    "Our outcome (dependent) variables of interest are Designation Status (\"Designated\"), HPSA score (0-25, higher score = deeper shortage), and designation duration (not in original data, calculated as (withdrawal date) - (designation date)). We look for the relationships between these outcome variables, indicating the shortages of healthcare professionals, and the other variables in the data.\n",
    "The dataset was downloaded from the [data downloads](https://data.hrsa.gov/data/download) page on the HRSA website on October 3, 2022, and is updated to September 30, 2022. Further information regarding the data can be found on the [HRSA website](https://data.hrsa.gov/about)."
   ]
  },
  {
   "cell_type": "markdown",
   "id": "eb66b229-58d0-4c87-8275-3d63fefc5cd8",
   "metadata": {
    "tags": []
   },
   "source": [
    "## __III Introduction__\n",
    "Our research aims to tackle the problem of shortage in healthcare workforces by analyzing characteristics of reported shortages and looking for possible directions to ease the pressure in the healthcare system.<br>\n",
    "<br>\n",
    "The public health system in the United States is facing continuously increasing pressure from a growing proportion of an elder population and the epidemic of COVID-19. According to research done by the Center for Workforce Studies at the Association of American Medical Colleges (AAMC), the population of age 65 or older is expected to double between 2000 and 2030, which will propose a much higher demand for healthcare services than younger age groups. On the other hand, physicians require 10-16 years of training, resulting in a gap between the demand and supply of healthcare. The bursting number of hospitalized patients due to COVID-19 facilitated a significant growth in the number of facilities in shortage. In March 2022, American Hospital Association reported that 23% of the member hospitals reported a critical staffing shortage to the government. Moreover, hospitals have seen a decrease of nearly 105,000 employees since February 2020.<br>\n",
    "<br>\n",
    "Therefore, it is increasingly urgent for the US government to resolve the shortage in the healthcare workforce. The Health Resources & Services Administration is a government organization that builds a database of Health Professional Shortage Areas (HSPA) that includes the facilities reporting the shortage in workforce, and uses the database for other organizations to determine each facility’s eligibility for funding. By understanding the HSPA dataset, we are able to determine some major trends that are correlated with the shortage."
   ]
  },
  {
   "cell_type": "markdown",
   "id": "5153729b-38f0-4292-b0ec-25bbed1b931d",
   "metadata": {
    "tags": []
   },
   "source": [
    "## __IV Summary__\n",
    "Our analysis looks at HPSA records from 1970s to 2022 to find correlations between healthcare workforce shortages and 2 dimensions: how HPSA designations vary over time and with respect to the geographical conditions that the facility is located in. We observed that from 1970, records of shortages experienced a gradual increase in numbers, and designations have changed from being geographic-based to population-based HPSAs. High rises in HPSA records often correlate to national pandemics. And by analyzing HPSA claims by state, we find out that the total number of designations correlates to the size of population in each state. By calculating the years it takes to resolve a shortage, we can see that it takes northern and rural states longer to resolve a raised case. Our research also shows that facilities in rural regions are slightly increasing; whereas non-rural cases are increasing at a much faster speed, nearly doubling from 1970s to 2010s. Moreover, the healthcare systems in non-rural regions are facing increasing pressure because of COVID-19. This shows that rural regions are experiencing more shortages in healthcare workforce than before, but towns and cities are experiencing more severe shortages in recent years."
   ]
  },
  {
   "cell_type": "markdown",
   "id": "322f8d66-0401-4a85-bcc4-43e42874be71",
   "metadata": {
    "tags": []
   },
   "source": [
    "## __V Observations__"
   ]
  },
  {
   "cell_type": "markdown",
   "id": "0a9a38e8-394f-4894-b2b4-5acf157d9eca",
   "metadata": {
    "tags": []
   },
   "source": [
    "### __Time__: How do designations vary over time?\n",
    "First, we looked at the counts of different designation types over time. As shown in the below line chart, Y-axis represents number of newly designated HPSA in the scope of different designation types. According to the chart, Geographical HPSA was once the dominant designation type, but it dropped drastically and was replaced by HPSA Population in around 1996. Since then, HPSA Population increased a lot and is now the dominant one. Other designation types account for a relatively low proportion in general. \n",
    "Another interesting finding is that for HPSA Population, the peaks of its designations after 2000s largely conform with the occurrence of main pandemics. Specifically, the peak at 2002 corresponds to Severe Acute Respiratory Syndrome (SARS), the peak at 2012 corresponds to the worst Whooping Cough in 60 years in the U.S. in 2012, the peak at 2017 corresponds to Zika Virus, and the continuous increase after 2020 is likely correlated to COVID-19. \n",
    "\n",
    "Then, we took the number of active designations into account. Active designations refer to those have not been withdrawn. The below graph shows the number of total designations and withdrawn each year, as well as the difference between these two which represents the active designations. According to the graph, we concluded that active shortage designations have an increasing trend overall.\n",
    "\n",
    "We also calculated the average shortage designation duration and analyzed by time series. According to the graph, the average shortage duration drastically increased from 1980 to 2010, and though experiencing a recess in the next five years, have bounced back since 2015. "
   ]
  },
  {
   "cell_type": "markdown",
   "id": "57263948-245e-4270-bb2e-2f779b848d33",
   "metadata": {},
   "source": [
    "<figure><img src='Different Designation Type Counts over Time.png' style=\"width: 80%\">\n",
    "<figcaption> Different Designation Type Counts over Time</figcaption></figure>"
   ]
  },
  {
   "cell_type": "markdown",
   "id": "b9051e6f-f7a4-424f-932a-00ab51124659",
   "metadata": {},
   "source": [
    "<figure><img src = 'active designations.png' style=\"width: 80%\"><figcaption> Count of Active (Not Withdrawn) Shortage Designations over Time</figcaption></figure>"
   ]
  },
  {
   "cell_type": "markdown",
   "id": "4e05a739-8cf2-48f5-8be8-b464e3f3c5b7",
   "metadata": {},
   "source": [
    "<figure><img src='avg_dur_time.png' style=\"width: 60%\"><figcaption>Average Shortage Duration Over Time in Years</figcaption></figure>"
   ]
  },
  {
   "cell_type": "code",
   "execution_count": null,
   "id": "5f6c85de-07b6-4b1b-ac38-1a401dabb746",
   "metadata": {
    "tags": []
   },
   "outputs": [
    {
     "name": "stderr",
     "output_type": "stream",
     "text": [
      "Query complete after 0.01s: 100%|██████████| 3/3 [00:00<00:00, 360.41query/s]                         \n",
      "Downloading: 100%|██████████| 3/3 [00:01<00:00,  2.12rows/s]\n"
     ]
    },
    {
     "data": {
      "text/html": [
       "<div>\n",
       "<style scoped>\n",
       "    .dataframe tbody tr th:only-of-type {\n",
       "        vertical-align: middle;\n",
       "    }\n",
       "\n",
       "    .dataframe tbody tr th {\n",
       "        vertical-align: top;\n",
       "    }\n",
       "\n",
       "    .dataframe thead th {\n",
       "        text-align: right;\n",
       "    }\n",
       "</style>\n",
       "<table border=\"1\" class=\"dataframe\">\n",
       "  <thead>\n",
       "    <tr style=\"text-align: right;\">\n",
       "      <th></th>\n",
       "      <th>Designation_Type</th>\n",
       "      <th>n_Designation</th>\n",
       "      <th>year</th>\n",
       "    </tr>\n",
       "  </thead>\n",
       "  <tbody>\n",
       "    <tr>\n",
       "      <th>0</th>\n",
       "      <td>HPSA Population</td>\n",
       "      <td>4106</td>\n",
       "      <td>2022</td>\n",
       "    </tr>\n",
       "    <tr>\n",
       "      <th>1</th>\n",
       "      <td>Geographic HPSA</td>\n",
       "      <td>531</td>\n",
       "      <td>2022</td>\n",
       "    </tr>\n",
       "    <tr>\n",
       "      <th>2</th>\n",
       "      <td>High Needs Geographic HPSA</td>\n",
       "      <td>405</td>\n",
       "      <td>2022</td>\n",
       "    </tr>\n",
       "  </tbody>\n",
       "</table>\n",
       "</div>"
      ],
      "text/plain": [
       "             Designation_Type  n_Designation  year\n",
       "0             HPSA Population           4106  2022\n",
       "1             Geographic HPSA            531  2022\n",
       "2  High Needs Geographic HPSA            405  2022"
      ]
     },
     "execution_count": 42,
     "metadata": {},
     "output_type": "execute_result"
    }
   ],
   "source": [
    "%%bigquery\n",
    "SELECT Designation_Type, COUNT(Designation_Type) n_Designation, EXTRACT(YEAR FROM (HPSA_Designation_Date)) as year\n",
    "FROM `ba775-fall22-a10.health_workforce_shortage_areas.hpsa`\n",
    "GROUP BY Designation_Type, year\n",
    "ORDER BY year DESC, n_Designation DESC\n",
    "LIMIT 3"
   ]
  },
  {
   "cell_type": "code",
   "execution_count": null,
   "id": "98852e00-6c60-4a57-9d89-a1d9b289b271",
   "metadata": {},
   "outputs": [
    {
     "name": "stderr",
     "output_type": "stream",
     "text": [
      "Query complete after 0.00s: 100%|██████████| 3/3 [00:00<00:00, 1926.64query/s]                        \n",
      "Downloading: 100%|██████████| 3/3 [00:01<00:00,  1.96rows/s]\n"
     ]
    },
    {
     "data": {
      "text/html": [
       "<div>\n",
       "<style scoped>\n",
       "    .dataframe tbody tr th:only-of-type {\n",
       "        vertical-align: middle;\n",
       "    }\n",
       "\n",
       "    .dataframe tbody tr th {\n",
       "        vertical-align: top;\n",
       "    }\n",
       "\n",
       "    .dataframe thead th {\n",
       "        text-align: right;\n",
       "    }\n",
       "</style>\n",
       "<table border=\"1\" class=\"dataframe\">\n",
       "  <thead>\n",
       "    <tr style=\"text-align: right;\">\n",
       "      <th></th>\n",
       "      <th>avg_duration</th>\n",
       "      <th>year</th>\n",
       "    </tr>\n",
       "  </thead>\n",
       "  <tbody>\n",
       "    <tr>\n",
       "      <th>0</th>\n",
       "      <td>6.104478</td>\n",
       "      <td>2022</td>\n",
       "    </tr>\n",
       "    <tr>\n",
       "      <th>1</th>\n",
       "      <td>17.077324</td>\n",
       "      <td>2021</td>\n",
       "    </tr>\n",
       "    <tr>\n",
       "      <th>2</th>\n",
       "      <td>11.602644</td>\n",
       "      <td>2020</td>\n",
       "    </tr>\n",
       "  </tbody>\n",
       "</table>\n",
       "</div>"
      ],
      "text/plain": [
       "   avg_duration  year\n",
       "0      6.104478  2022\n",
       "1     17.077324  2021\n",
       "2     11.602644  2020"
      ]
     },
     "execution_count": 79,
     "metadata": {},
     "output_type": "execute_result"
    }
   ],
   "source": [
    "%%bigquery\n",
    "SELECT AVG(EXTRACT(YEAR FROM(Withdrawn_Date))-EXTRACT(YEAR FROM(HPSA_Designation_Date))) as avg_duration, \n",
    "           EXTRACT(YEAR FROM(Withdrawn_Date)) as year\n",
    "FROM `ba775-fall22-a10.health_workforce_shortage_areas.hpsa`\n",
    "WHERE Withdrawn_Date IS NOT NULL\n",
    "GROUP BY year\n",
    "ORDER by year DESC\n",
    "LIMIT 3"
   ]
  },
  {
   "cell_type": "code",
   "execution_count": null,
   "id": "bc59fcd9-0a9d-4b19-a566-0edb417e5af7",
   "metadata": {},
   "outputs": [
    {
     "name": "stderr",
     "output_type": "stream",
     "text": [
      "Query complete after 0.01s: 100%|██████████| 20/20 [00:00<00:00, 2597.25query/s]                       \n",
      "Downloading: 100%|██████████| 5/5 [00:01<00:00,  3.67rows/s]\n"
     ]
    },
    {
     "data": {
      "text/html": [
       "<div>\n",
       "<style scoped>\n",
       "    .dataframe tbody tr th:only-of-type {\n",
       "        vertical-align: middle;\n",
       "    }\n",
       "\n",
       "    .dataframe tbody tr th {\n",
       "        vertical-align: top;\n",
       "    }\n",
       "\n",
       "    .dataframe thead th {\n",
       "        text-align: right;\n",
       "    }\n",
       "</style>\n",
       "<table border=\"1\" class=\"dataframe\">\n",
       "  <thead>\n",
       "    <tr style=\"text-align: right;\">\n",
       "      <th></th>\n",
       "      <th>des_year</th>\n",
       "      <th>designations</th>\n",
       "      <th>withdrawls</th>\n",
       "      <th>tot_designations</th>\n",
       "      <th>tot_withdrawls</th>\n",
       "      <th>tot_active_desigantions</th>\n",
       "    </tr>\n",
       "  </thead>\n",
       "  <tbody>\n",
       "    <tr>\n",
       "      <th>0</th>\n",
       "      <td>1978</td>\n",
       "      <td>6540</td>\n",
       "      <td>NaN</td>\n",
       "      <td>6540</td>\n",
       "      <td>NaN</td>\n",
       "      <td>NaN</td>\n",
       "    </tr>\n",
       "    <tr>\n",
       "      <th>1</th>\n",
       "      <td>1979</td>\n",
       "      <td>2478</td>\n",
       "      <td>NaN</td>\n",
       "      <td>9018</td>\n",
       "      <td>NaN</td>\n",
       "      <td>NaN</td>\n",
       "    </tr>\n",
       "    <tr>\n",
       "      <th>2</th>\n",
       "      <td>1980</td>\n",
       "      <td>1129</td>\n",
       "      <td>63.0</td>\n",
       "      <td>10147</td>\n",
       "      <td>63.0</td>\n",
       "      <td>10084.0</td>\n",
       "    </tr>\n",
       "    <tr>\n",
       "      <th>3</th>\n",
       "      <td>1981</td>\n",
       "      <td>1032</td>\n",
       "      <td>550.0</td>\n",
       "      <td>11179</td>\n",
       "      <td>613.0</td>\n",
       "      <td>10566.0</td>\n",
       "    </tr>\n",
       "    <tr>\n",
       "      <th>4</th>\n",
       "      <td>1982</td>\n",
       "      <td>720</td>\n",
       "      <td>47.0</td>\n",
       "      <td>11899</td>\n",
       "      <td>660.0</td>\n",
       "      <td>11239.0</td>\n",
       "    </tr>\n",
       "  </tbody>\n",
       "</table>\n",
       "</div>"
      ],
      "text/plain": [
       "   des_year  designations  withdrawls  tot_designations  tot_withdrawls  \\\n",
       "0      1978          6540         NaN              6540             NaN   \n",
       "1      1979          2478         NaN              9018             NaN   \n",
       "2      1980          1129        63.0             10147            63.0   \n",
       "3      1981          1032       550.0             11179           613.0   \n",
       "4      1982           720        47.0             11899           660.0   \n",
       "\n",
       "   tot_active_desigantions  \n",
       "0                      NaN  \n",
       "1                      NaN  \n",
       "2                  10084.0  \n",
       "3                  10566.0  \n",
       "4                  11239.0  "
      ]
     },
     "execution_count": 77,
     "metadata": {},
     "output_type": "execute_result"
    }
   ],
   "source": [
    "%%bigquery\n",
    "SELECT\n",
    "  y1.des_year,\n",
    "  y1.designations,\n",
    "  y2.withdrawls,\n",
    "  SUM(designations) OVER(ORDER BY des_year ROWS BETWEEN UNBOUNDED PRECEDING AND CURRENT ROW) AS tot_designations,\n",
    "  SUM(withdrawls) OVER(ORDER BY des_year ROWS BETWEEN UNBOUNDED PRECEDING AND CURRENT ROW) AS tot_withdrawls,\n",
    "  SUM(designations) OVER(ORDER BY des_year ROWS BETWEEN UNBOUNDED PRECEDING AND CURRENT ROW)- SUM(withdrawls) OVER(ORDER BY des_year ROWS BETWEEN UNBOUNDED PRECEDING AND CURRENT ROW) AS tot_active_desigantions\n",
    "FROM (\n",
    "  SELECT\n",
    "    des_year,\n",
    "    COUNT(HPSA_ID) AS designations\n",
    "  FROM (\n",
    "    SELECT\n",
    "      *,\n",
    "      EXTRACT(YEAR\n",
    "      FROM\n",
    "        HPSA_Designation_Date) AS des_year,\n",
    "      EXTRACT(YEAR\n",
    "      FROM\n",
    "        Withdrawn_Date) AS with_year\n",
    "    FROM\n",
    "      `ba775-fall22-a10.health_workforce_shortage_areas.hpsa`\n",
    "    WHERE\n",
    "      EXTRACT(YEAR\n",
    "      FROM\n",
    "        HPSA_Designation_Date) > 1970)\n",
    "  GROUP BY\n",
    "    des_year) AS y1\n",
    "LEFT JOIN (\n",
    "  SELECT\n",
    "    with_year,\n",
    "    COUNT(HPSA_ID) AS withdrawls\n",
    "  FROM (\n",
    "    SELECT\n",
    "      *,\n",
    "      EXTRACT(YEAR\n",
    "      FROM\n",
    "        HPSA_Designation_Date) AS des_year,\n",
    "      EXTRACT(YEAR\n",
    "      FROM\n",
    "        Withdrawn_Date) AS with_year\n",
    "    FROM\n",
    "      `ba775-fall22-a10.health_workforce_shortage_areas.hpsa`\n",
    "    WHERE\n",
    "      Withdrawn_Date IS NOT NULL )\n",
    "  GROUP BY\n",
    "    with_year) AS y2\n",
    "ON\n",
    "  y1.des_year = y2.with_year\n",
    "ORDER BY\n",
    "  y1.des_year\n",
    "LIMIT 5 "
   ]
  },
  {
   "cell_type": "markdown",
   "id": "7b451746-e4dd-4742-8900-3f3787e72368",
   "metadata": {
    "tags": []
   },
   "source": [
    "### __Geographical__: How does the location of a facility correlate to the level of shortage?\n",
    "By analyzing HPSA data based on the facilities' locations, we obeserves the following trend: \n",
    "1. Total number of designations correlate to the population of each state. \n",
    "2. Non-rural regions reports more HSPA areas than rural regions, and the number of non-rural HSPA areas is growing faster because of COVID-19.\n",
    "3. Southern states tend to have a slightly higher HPSA score. Northern states and rural states take longer to resolve the shortage.  "
   ]
  },
  {
   "cell_type": "markdown",
   "id": "784932db-bc41-4a0c-a9db-d7dde99e0004",
   "metadata": {
    "tags": []
   },
   "source": [
    "#### __Analysis on national distribution of HPSA facilities__\n",
    "To understand how location correlates to the shortage in workforce a medical facility is experiencing, we looked at records of HPSA data in each state. From the distribution of HPSA designations, we are able to make the following observations:\n",
    "- Total number of designations are correlated to the population of each state. Given California, New York, Pennsylvania, and Florida has the highest number of reported cases. \n",
    "- Some types of designations that account for a small proportion of the total number of designations but may be requiring staff with specialized training, are concentrated in specific states, such as there is a comparably high demand for staffs in correctional facilities in Texas.\n",
    "- As a general trend, there is an increase in HPSA records from facilites in rural region, but with deeper research, we observe a trend of non-rural facilities taking an increasing proportion of the total claims, which we will discuss further."
   ]
  },
  {
   "cell_type": "markdown",
   "id": "1d5b2ae1-bc87-4d74-b066-57bcfadeb45a",
   "metadata": {},
   "source": [
    "<table>\n",
    "    <tr>\n",
    "        <td> \n",
    "            <figure> <img src=\"map_desig_tot.png\" alt=\"Number of Designations by State\" style=\"width: 400px\">\n",
    "            <figcaption align = \"center\"> Number of Designations by State </figcaption>\n",
    "            </figure> \n",
    "        </td>\n",
    "        <td>  \n",
    "            <figure> <img src=\"map_desig_corrfa.png\" alt=\"Number of Designations of Correctional Facilities by State\" style=\"width: 400px\">\n",
    "            <figcaption align = \"center\"> Number of Designations of Correctional Facilities by State </figcaption>\n",
    "            </figure>  \n",
    "        </td>\n",
    "    </tr>\n",
    "</table>\n"
   ]
  },
  {
   "cell_type": "code",
   "execution_count": null,
   "id": "236e9387-e244-4315-90a6-97b743eadfb7",
   "metadata": {},
   "outputs": [
    {
     "name": "stderr",
     "output_type": "stream",
     "text": [
      "Query complete after 0.00s: 100%|██████████| 3/3 [00:00<00:00, 1592.37query/s]                        \n",
      "Downloading: 100%|██████████| 3/3 [00:01<00:00,  1.75rows/s]\n"
     ]
    },
    {
     "data": {
      "text/html": [
       "<div>\n",
       "<style scoped>\n",
       "    .dataframe tbody tr th:only-of-type {\n",
       "        vertical-align: middle;\n",
       "    }\n",
       "\n",
       "    .dataframe tbody tr th {\n",
       "        vertical-align: top;\n",
       "    }\n",
       "\n",
       "    .dataframe thead th {\n",
       "        text-align: right;\n",
       "    }\n",
       "</style>\n",
       "<table border=\"1\" class=\"dataframe\">\n",
       "  <thead>\n",
       "    <tr style=\"text-align: right;\">\n",
       "      <th></th>\n",
       "      <th>state</th>\n",
       "      <th>counts</th>\n",
       "    </tr>\n",
       "  </thead>\n",
       "  <tbody>\n",
       "    <tr>\n",
       "      <th>0</th>\n",
       "      <td>California</td>\n",
       "      <td>6901</td>\n",
       "    </tr>\n",
       "    <tr>\n",
       "      <th>1</th>\n",
       "      <td>New York</td>\n",
       "      <td>6643</td>\n",
       "    </tr>\n",
       "    <tr>\n",
       "      <th>2</th>\n",
       "      <td>Pennsylvania</td>\n",
       "      <td>3220</td>\n",
       "    </tr>\n",
       "  </tbody>\n",
       "</table>\n",
       "</div>"
      ],
      "text/plain": [
       "          state  counts\n",
       "0    California    6901\n",
       "1      New York    6643\n",
       "2  Pennsylvania    3220"
      ]
     },
     "execution_count": 44,
     "metadata": {},
     "output_type": "execute_result"
    }
   ],
   "source": [
    "%%bigquery\n",
    "## State distribution\n",
    "SELECT State_Name AS state, COUNT(State_Name) AS counts\n",
    "FROM ba775-fall22-a10.health_workforce_shortage_areas.hpsa\n",
    "GROUP BY State_Name\n",
    "ORDER BY counts DESC\n",
    "LIMIT 3\n",
    "## Select Primary_State_Name for a broad view of clinics distribution"
   ]
  },
  {
   "cell_type": "code",
   "execution_count": null,
   "id": "734c21e6-5d17-4b41-ac73-73aa16b3d9d9",
   "metadata": {},
   "outputs": [
    {
     "name": "stderr",
     "output_type": "stream",
     "text": [
      "Query complete after 0.00s: 100%|██████████| 3/3 [00:00<00:00, 2015.20query/s]                        \n",
      "Downloading: 100%|██████████| 3/3 [00:01<00:00,  1.97rows/s]\n"
     ]
    },
    {
     "data": {
      "text/html": [
       "<div>\n",
       "<style scoped>\n",
       "    .dataframe tbody tr th:only-of-type {\n",
       "        vertical-align: middle;\n",
       "    }\n",
       "\n",
       "    .dataframe tbody tr th {\n",
       "        vertical-align: top;\n",
       "    }\n",
       "\n",
       "    .dataframe thead th {\n",
       "        text-align: right;\n",
       "    }\n",
       "</style>\n",
       "<table border=\"1\" class=\"dataframe\">\n",
       "  <thead>\n",
       "    <tr style=\"text-align: right;\">\n",
       "      <th></th>\n",
       "      <th>state</th>\n",
       "      <th>counts</th>\n",
       "    </tr>\n",
       "  </thead>\n",
       "  <tbody>\n",
       "    <tr>\n",
       "      <th>0</th>\n",
       "      <td>Texas</td>\n",
       "      <td>139</td>\n",
       "    </tr>\n",
       "    <tr>\n",
       "      <th>1</th>\n",
       "      <td>Florida</td>\n",
       "      <td>85</td>\n",
       "    </tr>\n",
       "    <tr>\n",
       "      <th>2</th>\n",
       "      <td>California</td>\n",
       "      <td>48</td>\n",
       "    </tr>\n",
       "  </tbody>\n",
       "</table>\n",
       "</div>"
      ],
      "text/plain": [
       "        state  counts\n",
       "0       Texas     139\n",
       "1     Florida      85\n",
       "2  California      48"
      ]
     },
     "execution_count": 24,
     "metadata": {},
     "output_type": "execute_result"
    }
   ],
   "source": [
    "%%bigquery\n",
    "## State distribution\n",
    "SELECT State_Name AS state, COUNT(State_Name) AS counts\n",
    "FROM ba775-fall22-a10.health_workforce_shortage_areas.hpsa\n",
    "WHERE Designation_Type = 'Correctional Facility' #zoom into a specific type of facility\n",
    "GROUP BY State_Name\n",
    "ORDER BY counts DESC\n",
    "LIMIT 3"
   ]
  },
  {
   "cell_type": "markdown",
   "id": "156ce67e-fd0a-4feb-ac95-e954d1d7bfe7",
   "metadata": {
    "tags": []
   },
   "source": [
    "#### __Analysis on rural status of HPSA facilities__ \n",
    "By analyzing the change of reported shortages over each decades, we observe a general trend that there is a continuous increase in HPSA reported since 1980s. By analyzing the rural status of HPSA regions over time, we are able to reach the following conclusions:\n",
    "+50k non rural\n",
    "-10k rural\n",
    "- The stacked column chart shows that the overall number of shortage has shortly decreased from 1970s to 1980s, then continually increased every decade since 1980s. A possible explanation to the decrease in HPSA region from 1970 to 1980 could be the recession in 1970 and the drop in fertility rate in the decade (Center for Health Statistics).\n",
    "- The non-rural regions (population>50k) have consistently had more shortages than rural regions over the past few decades. The proportions of HPSA designations in both rural region and non-rural region are increasing since 1980s. However, the proportion of rural regions grows at a slower rate than the growth rate of non-rural region. The proportion of non-rural region grows rapidly in each decade from 3200 cases in 1970s to 5577 in 2010s, which means that there is increasing shortages in the cities.\n",
    "- The data after 2020s reflect the immense pressure of hospitalization rate under COVID-19. The HPSA designations reported in 2020, 2021, and 2022 are approximately 59% of designations from 2010 to 2020. We can also conclude that COVID-19 has proposed large pressure to healthcare system in non-rural regions, as the number of HSPA cases in non-rural areas are almost 3 times the number reported from facilities in rural areas, which echoes with the fact that COVID-19 has a much higher spread rate in regions with high population density."
   ]
  },
  {
   "cell_type": "markdown",
   "id": "b91074ff-fdb1-4de1-a915-4008a3067283",
   "metadata": {},
   "source": [
    "<figure><img src = 'desig_counts_rural.png', style=\"width:80%\">\n",
    "<figcaption>New designation counts by decades and rural status</figcaption></figure>"
   ]
  },
  {
   "cell_type": "code",
   "execution_count": null,
   "id": "d21f02ff-54a2-492b-95f5-dd70916c0116",
   "metadata": {},
   "outputs": [
    {
     "name": "stderr",
     "output_type": "stream",
     "text": [
      "Query complete after 0.00s: 100%|██████████| 3/3 [00:00<00:00, 2114.42query/s]                        \n",
      "Downloading: 100%|██████████| 3/3 [00:01<00:00,  2.09rows/s]\n"
     ]
    },
    {
     "data": {
      "text/html": [
       "<div>\n",
       "<style scoped>\n",
       "    .dataframe tbody tr th:only-of-type {\n",
       "        vertical-align: middle;\n",
       "    }\n",
       "\n",
       "    .dataframe tbody tr th {\n",
       "        vertical-align: top;\n",
       "    }\n",
       "\n",
       "    .dataframe thead th {\n",
       "        text-align: right;\n",
       "    }\n",
       "</style>\n",
       "<table border=\"1\" class=\"dataframe\">\n",
       "  <thead>\n",
       "    <tr style=\"text-align: right;\">\n",
       "      <th></th>\n",
       "      <th>Rural_Status</th>\n",
       "      <th>counts</th>\n",
       "    </tr>\n",
       "  </thead>\n",
       "  <tbody>\n",
       "    <tr>\n",
       "      <th>0</th>\n",
       "      <td>Rural</td>\n",
       "      <td>23965</td>\n",
       "    </tr>\n",
       "    <tr>\n",
       "      <th>1</th>\n",
       "      <td>Non-Rural</td>\n",
       "      <td>39840</td>\n",
       "    </tr>\n",
       "    <tr>\n",
       "      <th>2</th>\n",
       "      <td>Others</td>\n",
       "      <td>1137</td>\n",
       "    </tr>\n",
       "  </tbody>\n",
       "</table>\n",
       "</div>"
      ],
      "text/plain": [
       "  Rural_Status  counts\n",
       "0        Rural   23965\n",
       "1    Non-Rural   39840\n",
       "2       Others    1137"
      ]
     },
     "execution_count": 26,
     "metadata": {},
     "output_type": "execute_result"
    }
   ],
   "source": [
    "%%bigquery\n",
    "## Rural\n",
    "SELECT Rural_Status, COUNT(Rural_Status) AS counts\n",
    "FROM ba775-fall22-a10.health_workforce_shortage_areas.hpsa\n",
    "GROUP BY Rural_Status\n",
    "LIMIT 3"
   ]
  },
  {
   "cell_type": "code",
   "execution_count": null,
   "id": "d3064dad-01ec-42ac-a8ac-31ca4df65cb6",
   "metadata": {
    "tags": []
   },
   "outputs": [
    {
     "name": "stderr",
     "output_type": "stream",
     "text": [
      "Query complete after 0.00s: 100%|██████████| 1/1 [00:00<00:00, 443.94query/s] \n",
      "Downloading: 100%|██████████| 3/3 [00:01<00:00,  1.77rows/s]\n"
     ]
    },
    {
     "data": {
      "text/html": [
       "<div>\n",
       "<style scoped>\n",
       "    .dataframe tbody tr th:only-of-type {\n",
       "        vertical-align: middle;\n",
       "    }\n",
       "\n",
       "    .dataframe tbody tr th {\n",
       "        vertical-align: top;\n",
       "    }\n",
       "\n",
       "    .dataframe thead th {\n",
       "        text-align: right;\n",
       "    }\n",
       "</style>\n",
       "<table border=\"1\" class=\"dataframe\">\n",
       "  <thead>\n",
       "    <tr style=\"text-align: right;\">\n",
       "      <th></th>\n",
       "      <th>Rural_Status</th>\n",
       "      <th>Designation_decade</th>\n",
       "      <th>num_designations</th>\n",
       "    </tr>\n",
       "  </thead>\n",
       "  <tbody>\n",
       "    <tr>\n",
       "      <th>0</th>\n",
       "      <td>Rural</td>\n",
       "      <td>2020s</td>\n",
       "      <td>2562</td>\n",
       "    </tr>\n",
       "    <tr>\n",
       "      <th>1</th>\n",
       "      <td>Non-Rural</td>\n",
       "      <td>2020s</td>\n",
       "      <td>7260</td>\n",
       "    </tr>\n",
       "    <tr>\n",
       "      <th>2</th>\n",
       "      <td>Others</td>\n",
       "      <td>2020s</td>\n",
       "      <td>91</td>\n",
       "    </tr>\n",
       "  </tbody>\n",
       "</table>\n",
       "</div>"
      ],
      "text/plain": [
       "  Rural_Status Designation_decade  num_designations\n",
       "0        Rural              2020s              2562\n",
       "1    Non-Rural              2020s              7260\n",
       "2       Others              2020s                91"
      ]
     },
     "execution_count": 30,
     "metadata": {},
     "output_type": "execute_result"
    }
   ],
   "source": [
    "%%bigquery\n",
    "#graph\n",
    "UPDATE `ba775-fall22-a10.health_workforce_shortage_areas.hpsa`  \n",
    "SET Rural_Status = 'Others' \n",
    "WHERE Rural_Status = 'Unknown' \n",
    "OR Rural_Status = 'Partially Rural' \n",
    "OR Rural_Status = 'Not Applicable'\n",
    "OR Rural_Status = ''\n",
    "OR Rural_Status IS NULL;\n",
    "\n",
    "SELECT Rural_Status,\n",
    "CASE\n",
    "WHEN EXTRACT(YEAR FROM HPSA_Designation_Date) >=2020 THEN '2020s'\n",
    "WHEN EXTRACT(YEAR FROM HPSA_Designation_Date) >=2010 THEN '2010s'\n",
    "WHEN EXTRACT(YEAR FROM HPSA_Designation_Date) >=2000 THEN '2000s'\n",
    "WHEN EXTRACT(YEAR FROM HPSA_Designation_Date) >=1990 THEN '1990s'\n",
    "WHEN EXTRACT(YEAR FROM HPSA_Designation_Date) >=1980 THEN '1980s'\n",
    "WHEN EXTRACT(YEAR FROM HPSA_Designation_Date) >=1970 THEN '1970s'\n",
    "ELSE '<1970' END Designation_decade,\n",
    "COUNT(HPSA_ID) AS num_designations\n",
    "FROM `ba775-fall22-a10.health_workforce_shortage_areas.hpsa` \n",
    "GROUP BY Rural_Status,Designation_decade\n",
    "ORDER BY Designation_decade DESC\n",
    "LIMIT 3;"
   ]
  },
  {
   "cell_type": "markdown",
   "id": "56ff8550-8e45-4223-b632-07485796fa92",
   "metadata": {
    "tags": []
   },
   "source": [
    "#### __Analysis on duration and average score of HPSA facilities in different states__\n",
    "Average HPSA score and the duration of a shortage is analyzed to illustrate the severeness and elasticity of the healthcare system in each state. HPSA score measures 4 aspects of a facility: population-to-provider ratio, percent of population below\n",
    "100% Federal poverty level, infant health index, and travel time to nearest source of care outside of HPSA designation area. It ranges from 0 to 25, and illustrates the accessibility of healthcare services for the population in the HPSA designation area. The higher the score, the harder it is for the population in the HPSA designated area to seek healthcare services, and the more urgent to resolve the shortage. \n",
    "The duration of the shortage is measured with the withdrawn HPSA designations, and is calculated by the years between designation date and withdrawn date. It evaluates the government's ability to resolve a shortage. From our analysis, we can make the following observations: \n",
    "- In Average HPSA score, we observe a trend that generally speaking, southern states have higher average HPSA scores than northern states. This could result from a higher percent of population below federal poverty line in those states, or maybe the travel time aspect in scoring HPSA region.\n",
    "- Generally speaking, it takes northern and rural states a longer time to resolve the shortage. This may be result from more dispersed healthcare resources or an uneven distribution of healthcare facilities. In future research, we are going to collect more data with respect to healthcare resources in rural and northern states to further understand the situation. "
   ]
  },
  {
   "cell_type": "markdown",
   "id": "38b83192-0960-4d98-b425-e0e62a6c3862",
   "metadata": {},
   "source": [
    "<table>\n",
    "    <tr>\n",
    "        <td> \n",
    "            <figure> <img src=\"avg_score_state.png\" style=\"width:400px\">\n",
    "            <figcaption align = \"center\"> Average HPSA score (range from 0~25) by state </figcaption>\n",
    "            </figure> \n",
    "        </td>\n",
    "        <td>  \n",
    "            <figure> <img src=\"avg_dur_st.png\" style=\"width:400px\">\n",
    "            <figcaption align = \"center\"> Average duration of shortage by state (in years) by state </figcaption>\n",
    "            </figure>  \n",
    "        </td>\n",
    "    </tr>\n",
    "</table>"
   ]
  },
  {
   "cell_type": "code",
   "execution_count": null,
   "id": "28e644ff-9f02-472d-8370-88b219672ad8",
   "metadata": {
    "tags": []
   },
   "outputs": [
    {
     "name": "stderr",
     "output_type": "stream",
     "text": [
      "Query complete after 0.01s: 100%|██████████| 3/3 [00:00<00:00, 1854.25query/s]                        \n",
      "Downloading: 100%|██████████| 3/3 [00:02<00:00,  1.20rows/s]\n"
     ]
    },
    {
     "data": {
      "text/html": [
       "<div>\n",
       "<style scoped>\n",
       "    .dataframe tbody tr th:only-of-type {\n",
       "        vertical-align: middle;\n",
       "    }\n",
       "\n",
       "    .dataframe tbody tr th {\n",
       "        vertical-align: top;\n",
       "    }\n",
       "\n",
       "    .dataframe thead th {\n",
       "        text-align: right;\n",
       "    }\n",
       "</style>\n",
       "<table border=\"1\" class=\"dataframe\">\n",
       "  <thead>\n",
       "    <tr style=\"text-align: right;\">\n",
       "      <th></th>\n",
       "      <th>avg_score</th>\n",
       "      <th>state</th>\n",
       "    </tr>\n",
       "  </thead>\n",
       "  <tbody>\n",
       "    <tr>\n",
       "      <th>0</th>\n",
       "      <td>13.249533</td>\n",
       "      <td>Florida</td>\n",
       "    </tr>\n",
       "    <tr>\n",
       "      <th>1</th>\n",
       "      <td>12.717608</td>\n",
       "      <td>District of Columbia</td>\n",
       "    </tr>\n",
       "    <tr>\n",
       "      <th>2</th>\n",
       "      <td>12.662420</td>\n",
       "      <td>Delaware</td>\n",
       "    </tr>\n",
       "  </tbody>\n",
       "</table>\n",
       "</div>"
      ],
      "text/plain": [
       "   avg_score                 state\n",
       "0  13.249533               Florida\n",
       "1  12.717608  District of Columbia\n",
       "2  12.662420              Delaware"
      ]
     },
     "execution_count": 1,
     "metadata": {},
     "output_type": "execute_result"
    }
   ],
   "source": [
    "%%bigquery\n",
    "SELECT AVG(HPSA_Score) as avg_score, \n",
    "       State_Name AS state          \n",
    "FROM `ba775-fall22-a10.health_workforce_shortage_areas.hpsa`\n",
    "WHERE State_Name != 'Marshall Islands'\n",
    "AND State_Name != 'American Samoa'\n",
    "AND State_Name != 'Federated States of Micronesia'\n",
    "AND State_Name != 'Northern Mariana Islands'\n",
    "GROUP BY State_Name\n",
    "ORDER by avg_score DESC\n",
    "LIMIT 3"
   ]
  },
  {
   "cell_type": "code",
   "execution_count": null,
   "id": "228cca0c-2095-4773-9ac3-bfceebadcaf1",
   "metadata": {
    "tags": []
   },
   "outputs": [
    {
     "name": "stderr",
     "output_type": "stream",
     "text": [
      "Query complete after 0.00s: 100%|██████████| 3/3 [00:00<00:00, 1906.79query/s]                        \n",
      "Downloading: 100%|██████████| 3/3 [00:01<00:00,  1.84rows/s]\n"
     ]
    },
    {
     "data": {
      "text/html": [
       "<div>\n",
       "<style scoped>\n",
       "    .dataframe tbody tr th:only-of-type {\n",
       "        vertical-align: middle;\n",
       "    }\n",
       "\n",
       "    .dataframe tbody tr th {\n",
       "        vertical-align: top;\n",
       "    }\n",
       "\n",
       "    .dataframe thead th {\n",
       "        text-align: right;\n",
       "    }\n",
       "</style>\n",
       "<table border=\"1\" class=\"dataframe\">\n",
       "  <thead>\n",
       "    <tr style=\"text-align: right;\">\n",
       "      <th></th>\n",
       "      <th>avg_duration</th>\n",
       "      <th>state</th>\n",
       "    </tr>\n",
       "  </thead>\n",
       "  <tbody>\n",
       "    <tr>\n",
       "      <th>0</th>\n",
       "      <td>22.736453</td>\n",
       "      <td>Nevada</td>\n",
       "    </tr>\n",
       "    <tr>\n",
       "      <th>1</th>\n",
       "      <td>20.696429</td>\n",
       "      <td>Delaware</td>\n",
       "    </tr>\n",
       "    <tr>\n",
       "      <th>2</th>\n",
       "      <td>18.979266</td>\n",
       "      <td>South Dakota</td>\n",
       "    </tr>\n",
       "  </tbody>\n",
       "</table>\n",
       "</div>"
      ],
      "text/plain": [
       "   avg_duration         state\n",
       "0     22.736453        Nevada\n",
       "1     20.696429      Delaware\n",
       "2     18.979266  South Dakota"
      ]
     },
     "execution_count": 2,
     "metadata": {},
     "output_type": "execute_result"
    }
   ],
   "source": [
    "%%bigquery\n",
    "SELECT AVG(EXTRACT(YEAR FROM(Withdrawn_Date))-EXTRACT(YEAR FROM(HPSA_Designation_Date))) as avg_duration, \n",
    "       State_Name AS state          \n",
    "FROM `ba775-fall22-a10.health_workforce_shortage_areas.hpsa`\n",
    "WHERE State_Name != \"Republic of Palau\"\n",
    "GROUP BY State_Name\n",
    "ORDER by avg_duration DESC\n",
    "LIMIT 3"
   ]
  },
  {
   "cell_type": "markdown",
   "id": "a8781e4d-b93c-4b09-976a-2080868690ee",
   "metadata": {
    "tags": []
   },
   "source": [
    "## __VI Conclusion__"
   ]
  },
  {
   "cell_type": "markdown",
   "id": "21e61218-0711-44dd-9c07-4903e1bea341",
   "metadata": {
    "tags": []
   },
   "source": [
    "#### __Main Findings__\n",
    "In summary, our main findings are the following:\n",
    "- The staffing shortage problem has been getting much worse over the years; the number of active shortage designations has almost tripled since the 80s, and it has dramatically increased since the outbreak of the Covid-19 pandemic.\n",
    "- The duration of the shortage and the severity of the problem is higher in rural, northern states. However, if we look at the absolute values, HPSA designations in non-rural regions are growing even faster than in rural areas.\n",
    "- The main designation type has switched from \"Geographic\" to \"Population\" over the years. This means the shortage doesn't necessarily depend on specific geographical areas anymore, but it's mostly affecting different groups of the population.\n",
    "- The average duration of the shortage fluctuates a lot in general; Overall, the average duration is about 11 years. It seemed to get better between 2009 and 2015, but it has more recently decreased to an average of 6 years after reaching a peak of 9 years.\n",
    "\n",
    "#### __Next Steps__\n",
    "Our recommendation would be to conduct deeper research into the following areas:\n",
    "\n",
    "- Why shortage duration is so long in rural northern states. Maybe because healthcare resources and facilities are more unevenly distributed? It is also possible that healthcare workers are less willing to go to remote (cold) areas.\n",
    "- How and where the US government has decided to allocate its funding across states and different designation types. How much money was invested and where? How is an uneven distribution of resources affecting the shortage? Could the budget possibly be expanded to fix this issue?\n",
    "- How hospital staffing challenges have affected the mental and physical burden that has been placed on current healthcare employees, and if and how this has affected the quality of their work, creating further negative consequences for patients.\n",
    "- How much the pandemic has worsened the problem of healthcare staffing shortages so far, and how it's going to keep impacting it in the future. Studies show that since the pandemic, staffing shortages have become the nation’s top patient safety concern, making Americans wait longer times even when seeking care in life-threatening emergencies, or be turned away entirely, according to ECRI, a nonprofit patient safety organization. This is a real national emergency affecting mostly nurses, medical lab workers, and paramedics.\n"
   ]
  },
  {
   "cell_type": "markdown",
   "id": "4b9c45c3-1f2a-46b2-8a27-1f61335eb518",
   "metadata": {
    "tags": []
   },
   "source": [
    "## __VII Citations__\n",
    "- \"Challenges Facing America’s Health Care Workforce as the U.S. Enters Third Year of COVID-19 Pandemic\". American Hospital Association. https://www.aha.org/lettercomment/2022-03-01-aha-provides-information-congress-re-challenges-facing-americas-health\n",
    "- \"Scoring Shortage Designations.\" Health Resources & Services Administration. https://bhw.hrsa.gov/workforce-shortage-areas/shortage-designation/scoring\n",
    "- \"Staff Shortages Choking U.S. Health Care System\". U.S. News & World Report. https://www.usnews.com/news/health-news/articles/2022-07-28/staff-shortages-choking-u-s-health-care-system?context=amp\n",
    "- \"Supply and Demand in the Health Care Workforce\". Institute of Medicine (US) National Cancer Policy Forum.\n",
    "https://www.ncbi.nlm.nih.gov/books/NBK215247/\n",
    "- \"The U.S. Recession and the Birth Rate.\" Population Reference Bureau. https://www.prb.org/resources/the-u-s-recession-and-the-birth-rate/"
   ]
  },
  {
   "cell_type": "markdown",
   "id": "ac00bfa0-5367-460d-8a5c-1a5e754609c4",
   "metadata": {},
   "source": [
    "***"
   ]
  },
  {
   "cell_type": "markdown",
   "id": "7b1b4cc7-56b5-4455-a00d-d8e2dbb4c327",
   "metadata": {
    "tags": []
   },
   "source": [
    "# __Appendix I: Dashboard__"
   ]
  },
  {
   "cell_type": "markdown",
   "id": "dbf9b779-e38e-47eb-9924-648259b2354e",
   "metadata": {},
   "source": [
    "Link: [dashboard](https://datastudio.google.com/reporting/1e4d8441-ab63-42bc-94ac-1a372e8191d8)"
   ]
  },
  {
   "cell_type": "markdown",
   "id": "2f24246d-ec76-4f02-aff3-ed0209ff60a0",
   "metadata": {},
   "source": [
    "<img src=\"dashboard.png\">"
   ]
  },
  {
   "cell_type": "markdown",
   "id": "c37d19b7-03bd-48e5-b92d-a791c27a17cd",
   "metadata": {
    "tags": []
   },
   "source": [
    "# __Appendix II: Data Cleaning and Observations on the Original Dataset__"
   ]
  },
  {
   "cell_type": "markdown",
   "id": "ec68ade1-f9b6-4eab-bb58-d345cc74bc1b",
   "metadata": {
    "tags": []
   },
   "source": [
    "## __Data Cleaning__\n",
    "\n",
    "Our original data has 65 columns and 64,942 rows. \n",
    "Our goal is to eliminate the duplicated columns and columns that are mainly NULL or single value in our dataset.  <br>\n",
    "As a result, we decide to remove 24 columns from our data which leaves us with __41__ columns for further analysis.<br>\n",
    "Here are the columns that we decided to remove from our dataset and reasons behind our decision."
   ]
  },
  {
   "cell_type": "markdown",
   "id": "8792b430-ad47-4a4b-af22-d5c818e6bd8b",
   "metadata": {
    "tags": []
   },
   "source": [
    "### 24 Columns removed and reasoning\n",
    "_HPSA_Geography_Identification_Number:_ we have other data for geographical location and are more widely used such as long&lat.  <br>\n",
    "_Common_State_Abbreviation:_  we have other data for geographical location <br>\n",
    "_HPSA_Name:_  we'll keep ID instead as our unique key to identify each facility <br>\n",
    "_HPSA_Discipline_Class:_ - remove because the only value is Primary Care <br>\n",
    "_BHCMIS_Organization_Identification_Number:_ we will use  <br>\n",
    "_Break_in_Designation:_  remove because the only value is false <br>\n",
    "_Common_County_Name:_  redundancy <br>\n",
    "_Common_State_County_FIPS_Code:_  we will use county name instead <br>\n",
    "_Common_State_FIPS_Code:_ redundancy <br>\n",
    "_Common_State_Name:_ redundancy <br>\n",
    "_State_Abbreviation:_ redundancy <br>\n",
    "_County_or_County_Equivalent_Federal_Information_Processing_Standard_Code:_ redundancy <br>\n",
    "_Discipline_Class_Number:_ All data is 1 <br>\n",
    "_HPSA_Component_State_Abbreviation:_ All null<br>\n",
    "_HPSA_Component_Type_Code:_ abbreviate of types<br>\n",
    "_HPSA_Postal_Code:_ mostly blank <br>\n",
    "_Primary_State_FIPS_Code:_ the same as name, delete code<br>\n",
    "_Provider_Type:_ all the 58082 data that is not null is Not Applicable<br>\n",
    "_State_FIPS_Code:_ The same as State_Name<br>\n",
    "_U_S_Mexico_Border_County_Indicator:_ no information<br>\n",
    "_Data_Warehouse_Record_Create_Date:_ all is today<br>\n",
    "_Data_Warehouse_Record_Create_Date_Text:_ all is today<br>\n",
    "_Primary_State_Name:_ redundancy<br>\n",
    "_string_field_64:_ all null<br>"
   ]
  },
  {
   "cell_type": "code",
   "execution_count": null,
   "id": "c25b3783-33c6-40cc-b15e-edf69795165e",
   "metadata": {},
   "outputs": [],
   "source": [
    "#data cleaning code IN PLACE\n",
    "# ALTER TABLE `ba775-fall22-a10.health_workforce_shortage_areas.hpsa`\n",
    "# DROP COLUMN HPSA_Geography_Identification_Number,\n",
    "# DROP COLUMN Common_State_Abbreviation,\n",
    "# DROP COLUMN HPSA_Name,\n",
    "# DROP COLUMN HPSA_Discipline_Class,\n",
    "# DROP COLUMN BHCMIS_Organization_Identification_Number,\n",
    "# DROP COLUMN Break_in_Designation,\n",
    "# DROP COLUMN Common_County_Name,\n",
    "# DROP COLUMN Common_State_County_FIPS_Code,\n",
    "# DROP COLUMN Common_State_FIPS_Code,\n",
    "# DROP COLUMN Common_State_Name,\n",
    "# DROP COLUMN County_or_County_Equivalent_Federal_Information_Processing_Standard_Code,\n",
    "# DROP COLUMN  State_Abbreviation,\n",
    "# DROP COLUMN Discipline_Class_Number,\n",
    "# DROP COLUMN HPSA_Component_State_Abbreviation,\n",
    "# DROP COLUMN HPSA_Component_Type_Code,\n",
    "# DROP COLUMN HPSA_Postal_Code,\n",
    "# DROP COLUMN Primary_State_FIPS_Code,\n",
    "# DROP COLUMN Provider_Type,\n",
    "# DROP COLUMN State_FIPS_Code,\n",
    "# DROP COLUMN U_S____Mexico_Border_County_Indicator,\n",
    "# DROP COLUMN Data_Warehouse_Record_Create_Date,\n",
    "# DROP COLUMN Data_Warehouse_Record_Create_Date_Text,\n",
    "# DROP COLUMN string_field_64,\n",
    "# DROP COLUMN Primary_State_Name"
   ]
  },
  {
   "cell_type": "code",
   "execution_count": null,
   "id": "4db7e644-41e6-4ffe-8d08-b8a23f982911",
   "metadata": {},
   "outputs": [
    {
     "name": "stderr",
     "output_type": "stream",
     "text": [
      "Query complete after 0.00s: 100%|██████████| 1/1 [00:00<00:00, 860.90query/s] \n",
      "Downloading: 100%|██████████| 5/5 [00:01<00:00,  3.06rows/s]\n"
     ]
    },
    {
     "data": {
      "text/html": [
       "<div>\n",
       "<style scoped>\n",
       "    .dataframe tbody tr th:only-of-type {\n",
       "        vertical-align: middle;\n",
       "    }\n",
       "\n",
       "    .dataframe tbody tr th {\n",
       "        vertical-align: top;\n",
       "    }\n",
       "\n",
       "    .dataframe thead th {\n",
       "        text-align: right;\n",
       "    }\n",
       "</style>\n",
       "<table border=\"1\" class=\"dataframe\">\n",
       "  <thead>\n",
       "    <tr style=\"text-align: right;\">\n",
       "      <th></th>\n",
       "      <th>HPSA_ID</th>\n",
       "      <th>Designation_Type</th>\n",
       "      <th>HPSA_Score</th>\n",
       "      <th>Primary_State_Abbreviation</th>\n",
       "      <th>HPSA_Status</th>\n",
       "      <th>HPSA_Designation_Date</th>\n",
       "      <th>HPSA_Designation_Last_Update_Date</th>\n",
       "      <th>Metropolitan_Indicator</th>\n",
       "      <th>HPSA_Degree_of_Shortage</th>\n",
       "      <th>Withdrawn_Date</th>\n",
       "      <th>...</th>\n",
       "      <th>HPSA_Provider_Ratio_Goal</th>\n",
       "      <th>HPSA_Resident_Civilian_Population</th>\n",
       "      <th>HPSA_Shortage</th>\n",
       "      <th>HPSA_Status_Code</th>\n",
       "      <th>HPSA_Type_Code</th>\n",
       "      <th>HPSA_Withdrawn_Date_String</th>\n",
       "      <th>Rural_Status_Code</th>\n",
       "      <th>State_and_County_Federal_Information_Processing_Standard_Code</th>\n",
       "      <th>State_Name</th>\n",
       "      <th>U_S____Mexico_Border_100_Kilometer_Indicator</th>\n",
       "    </tr>\n",
       "  </thead>\n",
       "  <tbody>\n",
       "    <tr>\n",
       "      <th>0</th>\n",
       "      <td>101999012C</td>\n",
       "      <td>Indian Health Service, Tribal Health, and Urba...</td>\n",
       "      <td>20</td>\n",
       "      <td>AL</td>\n",
       "      <td>Designated</td>\n",
       "      <td>2002-10-26</td>\n",
       "      <td>2021-09-12</td>\n",
       "      <td>Non-Metropolitan</td>\n",
       "      <td></td>\n",
       "      <td>None</td>\n",
       "      <td>...</td>\n",
       "      <td></td>\n",
       "      <td>NaN</td>\n",
       "      <td>NaN</td>\n",
       "      <td>D</td>\n",
       "      <td>ITU</td>\n",
       "      <td>None</td>\n",
       "      <td>R</td>\n",
       "      <td>01053</td>\n",
       "      <td>Alabama</td>\n",
       "      <td>N</td>\n",
       "    </tr>\n",
       "    <tr>\n",
       "      <th>1</th>\n",
       "      <td>101999019Q</td>\n",
       "      <td>Rural Health Clinic</td>\n",
       "      <td>18</td>\n",
       "      <td>AL</td>\n",
       "      <td>Withdrawn</td>\n",
       "      <td>2018-11-29</td>\n",
       "      <td>2020-02-06</td>\n",
       "      <td>Unknown</td>\n",
       "      <td></td>\n",
       "      <td>2020-02-06</td>\n",
       "      <td>...</td>\n",
       "      <td></td>\n",
       "      <td>NaN</td>\n",
       "      <td>NaN</td>\n",
       "      <td>W</td>\n",
       "      <td>RHC</td>\n",
       "      <td>2020-02-06</td>\n",
       "      <td>R</td>\n",
       "      <td>01087</td>\n",
       "      <td>Alabama</td>\n",
       "      <td>N</td>\n",
       "    </tr>\n",
       "    <tr>\n",
       "      <th>2</th>\n",
       "      <td>101999019O</td>\n",
       "      <td>Rural Health Clinic</td>\n",
       "      <td>15</td>\n",
       "      <td>AL</td>\n",
       "      <td>Withdrawn</td>\n",
       "      <td>2017-10-18</td>\n",
       "      <td>2020-09-18</td>\n",
       "      <td>Unknown</td>\n",
       "      <td></td>\n",
       "      <td>2020-09-18</td>\n",
       "      <td>...</td>\n",
       "      <td></td>\n",
       "      <td>NaN</td>\n",
       "      <td>NaN</td>\n",
       "      <td>W</td>\n",
       "      <td>RHC</td>\n",
       "      <td>2020-09-18</td>\n",
       "      <td>R</td>\n",
       "      <td>01095</td>\n",
       "      <td>Alabama</td>\n",
       "      <td>N</td>\n",
       "    </tr>\n",
       "    <tr>\n",
       "      <th>3</th>\n",
       "      <td>101999019N</td>\n",
       "      <td>Rural Health Clinic</td>\n",
       "      <td>18</td>\n",
       "      <td>AL</td>\n",
       "      <td>Withdrawn</td>\n",
       "      <td>2017-07-13</td>\n",
       "      <td>2020-02-06</td>\n",
       "      <td>Unknown</td>\n",
       "      <td></td>\n",
       "      <td>2020-02-06</td>\n",
       "      <td>...</td>\n",
       "      <td></td>\n",
       "      <td>NaN</td>\n",
       "      <td>NaN</td>\n",
       "      <td>W</td>\n",
       "      <td>RHC</td>\n",
       "      <td>2020-02-06</td>\n",
       "      <td>R</td>\n",
       "      <td>01123</td>\n",
       "      <td>Alabama</td>\n",
       "      <td>N</td>\n",
       "    </tr>\n",
       "    <tr>\n",
       "      <th>4</th>\n",
       "      <td>101999019M</td>\n",
       "      <td>Rural Health Clinic</td>\n",
       "      <td>21</td>\n",
       "      <td>AL</td>\n",
       "      <td>Withdrawn</td>\n",
       "      <td>2017-06-05</td>\n",
       "      <td>2020-02-06</td>\n",
       "      <td>Unknown</td>\n",
       "      <td></td>\n",
       "      <td>2020-02-06</td>\n",
       "      <td>...</td>\n",
       "      <td></td>\n",
       "      <td>NaN</td>\n",
       "      <td>NaN</td>\n",
       "      <td>W</td>\n",
       "      <td>RHC</td>\n",
       "      <td>2020-02-06</td>\n",
       "      <td>R</td>\n",
       "      <td>01005</td>\n",
       "      <td>Alabama</td>\n",
       "      <td>N</td>\n",
       "    </tr>\n",
       "  </tbody>\n",
       "</table>\n",
       "<p>5 rows × 41 columns</p>\n",
       "</div>"
      ],
      "text/plain": [
       "      HPSA_ID                                   Designation_Type  HPSA_Score  \\\n",
       "0  101999012C  Indian Health Service, Tribal Health, and Urba...          20   \n",
       "1  101999019Q                                Rural Health Clinic          18   \n",
       "2  101999019O                                Rural Health Clinic          15   \n",
       "3  101999019N                                Rural Health Clinic          18   \n",
       "4  101999019M                                Rural Health Clinic          21   \n",
       "\n",
       "  Primary_State_Abbreviation HPSA_Status HPSA_Designation_Date  \\\n",
       "0                         AL  Designated            2002-10-26   \n",
       "1                         AL   Withdrawn            2018-11-29   \n",
       "2                         AL   Withdrawn            2017-10-18   \n",
       "3                         AL   Withdrawn            2017-07-13   \n",
       "4                         AL   Withdrawn            2017-06-05   \n",
       "\n",
       "  HPSA_Designation_Last_Update_Date Metropolitan_Indicator  \\\n",
       "0                        2021-09-12       Non-Metropolitan   \n",
       "1                        2020-02-06                Unknown   \n",
       "2                        2020-09-18                Unknown   \n",
       "3                        2020-02-06                Unknown   \n",
       "4                        2020-02-06                Unknown   \n",
       "\n",
       "  HPSA_Degree_of_Shortage Withdrawn_Date  ...  HPSA_Provider_Ratio_Goal  \\\n",
       "0                                   None  ...                             \n",
       "1                             2020-02-06  ...                             \n",
       "2                             2020-09-18  ...                             \n",
       "3                             2020-02-06  ...                             \n",
       "4                             2020-02-06  ...                             \n",
       "\n",
       "   HPSA_Resident_Civilian_Population  HPSA_Shortage HPSA_Status_Code  \\\n",
       "0                                NaN            NaN                D   \n",
       "1                                NaN            NaN                W   \n",
       "2                                NaN            NaN                W   \n",
       "3                                NaN            NaN                W   \n",
       "4                                NaN            NaN                W   \n",
       "\n",
       "  HPSA_Type_Code HPSA_Withdrawn_Date_String  Rural_Status_Code  \\\n",
       "0            ITU                       None                  R   \n",
       "1            RHC                 2020-02-06                  R   \n",
       "2            RHC                 2020-09-18                  R   \n",
       "3            RHC                 2020-02-06                  R   \n",
       "4            RHC                 2020-02-06                  R   \n",
       "\n",
       "   State_and_County_Federal_Information_Processing_Standard_Code  State_Name  \\\n",
       "0                                              01053                 Alabama   \n",
       "1                                              01087                 Alabama   \n",
       "2                                              01095                 Alabama   \n",
       "3                                              01123                 Alabama   \n",
       "4                                              01005                 Alabama   \n",
       "\n",
       "  U_S____Mexico_Border_100_Kilometer_Indicator  \n",
       "0                                            N  \n",
       "1                                            N  \n",
       "2                                            N  \n",
       "3                                            N  \n",
       "4                                            N  \n",
       "\n",
       "[5 rows x 41 columns]"
      ]
     },
     "execution_count": 13,
     "metadata": {},
     "output_type": "execute_result"
    }
   ],
   "source": [
    "%%bigquery\n",
    "SELECT * \n",
    "FROM `ba775-fall22-a10.health_workforce_shortage_areas.hpsa` \n",
    "LIMIT 5;"
   ]
  },
  {
   "cell_type": "markdown",
   "id": "e29dd005-6e05-4ffe-84f5-3961e637b1c4",
   "metadata": {
    "tags": []
   },
   "source": [
    "## __II Understanding processed data__\n",
    "To determine the major factors that leads to a shortage in healthcare workforce, we will devide our independent data entries into 3 major groups. __geographical data, __time data__, and __categorial data__ that are related to healthcare industry.<br>\n",
    "In this section, summary statistics are conducted to understand each group of factors in our cleaned data. <br>"
   ]
  },
  {
   "cell_type": "markdown",
   "id": "41451447-ae41-46d1-9860-05ed11bc69cd",
   "metadata": {
    "tags": []
   },
   "source": [
    "### Geographical information: How are the facilities distributed around US?\n",
    "To understand the geographical information of our data, we looked at 3 parameters, indicating if the facility is in a city, a metropolitan city, or rural region as potential indication of the financial status of the attendants for each facility. \n",
    "Our observations are as following:<br>\n",
    "1. Majority of the facilities are located in rural region.\n",
    "2. Numbers of facilities in each state seems to be related to population of each state, so further normalization (such as facility counts over population) may be needed to better understand our data.\n",
    "3. Of the cities that a comparatively minor sector of facilites located in, Los Angeles, Chicago, and Anchorage have the most facilities reporting workforce shortage."
   ]
  },
  {
   "cell_type": "code",
   "execution_count": null,
   "id": "e52fb08c-43e3-473a-a154-7e21724609a9",
   "metadata": {},
   "outputs": [
    {
     "name": "stderr",
     "output_type": "stream",
     "text": [
      "Query complete after 0.00s: 100%|██████████| 2/2 [00:00<00:00, 1059.03query/s]                        \n",
      "Downloading: 100%|██████████| 6/6 [00:01<00:00,  3.63rows/s]\n"
     ]
    },
    {
     "data": {
      "text/html": [
       "<div>\n",
       "<style scoped>\n",
       "    .dataframe tbody tr th:only-of-type {\n",
       "        vertical-align: middle;\n",
       "    }\n",
       "\n",
       "    .dataframe tbody tr th {\n",
       "        vertical-align: top;\n",
       "    }\n",
       "\n",
       "    .dataframe thead th {\n",
       "        text-align: right;\n",
       "    }\n",
       "</style>\n",
       "<table border=\"1\" class=\"dataframe\">\n",
       "  <thead>\n",
       "    <tr style=\"text-align: right;\">\n",
       "      <th></th>\n",
       "      <th>Rural_Status</th>\n",
       "      <th>counts</th>\n",
       "    </tr>\n",
       "  </thead>\n",
       "  <tbody>\n",
       "    <tr>\n",
       "      <th>0</th>\n",
       "      <td>Rural</td>\n",
       "      <td>23965</td>\n",
       "    </tr>\n",
       "    <tr>\n",
       "      <th>1</th>\n",
       "      <td>Non-Rural</td>\n",
       "      <td>39840</td>\n",
       "    </tr>\n",
       "    <tr>\n",
       "      <th>2</th>\n",
       "      <td>Unknown</td>\n",
       "      <td>276</td>\n",
       "    </tr>\n",
       "    <tr>\n",
       "      <th>3</th>\n",
       "      <td>Partially Rural</td>\n",
       "      <td>781</td>\n",
       "    </tr>\n",
       "    <tr>\n",
       "      <th>4</th>\n",
       "      <td>Not Applicable</td>\n",
       "      <td>21</td>\n",
       "    </tr>\n",
       "    <tr>\n",
       "      <th>5</th>\n",
       "      <td></td>\n",
       "      <td>59</td>\n",
       "    </tr>\n",
       "  </tbody>\n",
       "</table>\n",
       "</div>"
      ],
      "text/plain": [
       "      Rural_Status  counts\n",
       "0            Rural   23965\n",
       "1        Non-Rural   39840\n",
       "2          Unknown     276\n",
       "3  Partially Rural     781\n",
       "4   Not Applicable      21\n",
       "5                       59"
      ]
     },
     "execution_count": 21,
     "metadata": {},
     "output_type": "execute_result"
    }
   ],
   "source": [
    "%%bigquery\n",
    "## Rural\n",
    "SELECT Rural_Status, COUNT(Rural_Status) AS counts\n",
    "FROM ba775-fall22-a10.health_workforce_shortage_areas.hpsa\n",
    "GROUP BY Rural_Status"
   ]
  },
  {
   "cell_type": "code",
   "execution_count": null,
   "id": "c6731b66-53eb-41bc-889e-9f17d441c586",
   "metadata": {},
   "outputs": [
    {
     "name": "stderr",
     "output_type": "stream",
     "text": [
      "Query complete after 0.00s: 100%|██████████| 3/3 [00:00<00:00, 1744.96query/s]                        \n",
      "Downloading: 100%|██████████| 10/10 [00:02<00:00,  3.55rows/s]\n"
     ]
    },
    {
     "data": {
      "text/html": [
       "<div>\n",
       "<style scoped>\n",
       "    .dataframe tbody tr th:only-of-type {\n",
       "        vertical-align: middle;\n",
       "    }\n",
       "\n",
       "    .dataframe tbody tr th {\n",
       "        vertical-align: top;\n",
       "    }\n",
       "\n",
       "    .dataframe thead th {\n",
       "        text-align: right;\n",
       "    }\n",
       "</style>\n",
       "<table border=\"1\" class=\"dataframe\">\n",
       "  <thead>\n",
       "    <tr style=\"text-align: right;\">\n",
       "      <th></th>\n",
       "      <th>state</th>\n",
       "      <th>counts</th>\n",
       "    </tr>\n",
       "  </thead>\n",
       "  <tbody>\n",
       "    <tr>\n",
       "      <th>0</th>\n",
       "      <td>California</td>\n",
       "      <td>6901</td>\n",
       "    </tr>\n",
       "    <tr>\n",
       "      <th>1</th>\n",
       "      <td>New York</td>\n",
       "      <td>6643</td>\n",
       "    </tr>\n",
       "    <tr>\n",
       "      <th>2</th>\n",
       "      <td>Pennsylvania</td>\n",
       "      <td>3220</td>\n",
       "    </tr>\n",
       "    <tr>\n",
       "      <th>3</th>\n",
       "      <td>Florida</td>\n",
       "      <td>3210</td>\n",
       "    </tr>\n",
       "    <tr>\n",
       "      <th>4</th>\n",
       "      <td>Minnesota</td>\n",
       "      <td>2817</td>\n",
       "    </tr>\n",
       "    <tr>\n",
       "      <th>5</th>\n",
       "      <td>Michigan</td>\n",
       "      <td>2719</td>\n",
       "    </tr>\n",
       "    <tr>\n",
       "      <th>6</th>\n",
       "      <td>Wisconsin</td>\n",
       "      <td>2654</td>\n",
       "    </tr>\n",
       "    <tr>\n",
       "      <th>7</th>\n",
       "      <td>Texas</td>\n",
       "      <td>2592</td>\n",
       "    </tr>\n",
       "    <tr>\n",
       "      <th>8</th>\n",
       "      <td>Arizona</td>\n",
       "      <td>2585</td>\n",
       "    </tr>\n",
       "    <tr>\n",
       "      <th>9</th>\n",
       "      <td>Illinois</td>\n",
       "      <td>2455</td>\n",
       "    </tr>\n",
       "  </tbody>\n",
       "</table>\n",
       "</div>"
      ],
      "text/plain": [
       "          state  counts\n",
       "0    California    6901\n",
       "1      New York    6643\n",
       "2  Pennsylvania    3220\n",
       "3       Florida    3210\n",
       "4     Minnesota    2817\n",
       "5      Michigan    2719\n",
       "6     Wisconsin    2654\n",
       "7         Texas    2592\n",
       "8       Arizona    2585\n",
       "9      Illinois    2455"
      ]
     },
     "execution_count": 17,
     "metadata": {},
     "output_type": "execute_result"
    }
   ],
   "source": [
    "%%bigquery\n",
    "## State distribution\n",
    "SELECT State_Name AS state, COUNT(State_Name) AS counts\n",
    "FROM ba775-fall22-a10.health_workforce_shortage_areas.hpsa\n",
    "GROUP BY State_Name\n",
    "ORDER BY counts DESC\n",
    "LIMIT 10\n",
    "## Select Primary_State_Name for a broad view of clinics distribution"
   ]
  },
  {
   "cell_type": "code",
   "execution_count": null,
   "id": "d4cb414f-8c1e-4c73-8d1e-b5ac6f0cb8a1",
   "metadata": {},
   "outputs": [
    {
     "name": "stderr",
     "output_type": "stream",
     "text": [
      "Query complete after 0.00s: 100%|██████████| 3/3 [00:00<00:00, 1458.04query/s]                        \n",
      "Downloading: 100%|██████████| 10/10 [00:01<00:00,  6.82rows/s]\n"
     ]
    },
    {
     "data": {
      "text/html": [
       "<div>\n",
       "<style scoped>\n",
       "    .dataframe tbody tr th:only-of-type {\n",
       "        vertical-align: middle;\n",
       "    }\n",
       "\n",
       "    .dataframe tbody tr th {\n",
       "        vertical-align: top;\n",
       "    }\n",
       "\n",
       "    .dataframe thead th {\n",
       "        text-align: right;\n",
       "    }\n",
       "</style>\n",
       "<table border=\"1\" class=\"dataframe\">\n",
       "  <thead>\n",
       "    <tr style=\"text-align: right;\">\n",
       "      <th></th>\n",
       "      <th>HPSA_City</th>\n",
       "      <th>counts</th>\n",
       "    </tr>\n",
       "  </thead>\n",
       "  <tbody>\n",
       "    <tr>\n",
       "      <th>0</th>\n",
       "      <td></td>\n",
       "      <td>58426</td>\n",
       "    </tr>\n",
       "    <tr>\n",
       "      <th>1</th>\n",
       "      <td>Los Angeles</td>\n",
       "      <td>39</td>\n",
       "    </tr>\n",
       "    <tr>\n",
       "      <th>2</th>\n",
       "      <td>Chicago</td>\n",
       "      <td>35</td>\n",
       "    </tr>\n",
       "    <tr>\n",
       "      <th>3</th>\n",
       "      <td>Anchorage</td>\n",
       "      <td>30</td>\n",
       "    </tr>\n",
       "    <tr>\n",
       "      <th>4</th>\n",
       "      <td>New York</td>\n",
       "      <td>28</td>\n",
       "    </tr>\n",
       "    <tr>\n",
       "      <th>5</th>\n",
       "      <td>Houston</td>\n",
       "      <td>25</td>\n",
       "    </tr>\n",
       "    <tr>\n",
       "      <th>6</th>\n",
       "      <td>Portland</td>\n",
       "      <td>23</td>\n",
       "    </tr>\n",
       "    <tr>\n",
       "      <th>7</th>\n",
       "      <td>Phoenix</td>\n",
       "      <td>22</td>\n",
       "    </tr>\n",
       "    <tr>\n",
       "      <th>8</th>\n",
       "      <td>Newport</td>\n",
       "      <td>20</td>\n",
       "    </tr>\n",
       "    <tr>\n",
       "      <th>9</th>\n",
       "      <td>Miami</td>\n",
       "      <td>20</td>\n",
       "    </tr>\n",
       "  </tbody>\n",
       "</table>\n",
       "</div>"
      ],
      "text/plain": [
       "     HPSA_City  counts\n",
       "0                58426\n",
       "1  Los Angeles      39\n",
       "2      Chicago      35\n",
       "3    Anchorage      30\n",
       "4     New York      28\n",
       "5      Houston      25\n",
       "6     Portland      23\n",
       "7      Phoenix      22\n",
       "8      Newport      20\n",
       "9        Miami      20"
      ]
     },
     "execution_count": 20,
     "metadata": {},
     "output_type": "execute_result"
    }
   ],
   "source": [
    "%%bigquery\n",
    "## Cities\n",
    "SELECT HPSA_City, COUNT(HPSA_City) AS counts\n",
    "FROM ba775-fall22-a10.health_workforce_shortage_areas.hpsa\n",
    "GROUP BY HPSA_City\n",
    "ORDER BY counts DESC\n",
    "LIMIT 10"
   ]
  },
  {
   "cell_type": "markdown",
   "id": "5c0cd3fb-30e2-4232-b633-d18f6514c579",
   "metadata": {
    "tags": []
   },
   "source": [
    "### Time information: How are designations and resolutions distributed over the time span in our data?\n",
    "Our earliest entry dated back to 1970, with the latest entry in 2022-09-30. We looked at the time span of each shortage record regarding the time it takes for the shortage from designation to withdrawal. Our obervations are as following:\n",
    "1. Average year of current facilities that reported of shortages is 2021. \n",
    "2. There is a steady increase in numbers of designations since 1980s, and there is a dramatic increase in 2020s.\n",
    "3. The most frequent duration of shortages (from report to withdrawal) is within 5 years from designation. This time duration covers about 36% of all cases."
   ]
  },
  {
   "cell_type": "code",
   "execution_count": null,
   "id": "16b9ea45-bc66-4617-aa20-5db2a06c0fca",
   "metadata": {},
   "outputs": [
    {
     "name": "stderr",
     "output_type": "stream",
     "text": [
      "Query complete after 0.01s: 100%|██████████| 2/2 [00:00<00:00, 1127.80query/s]                        \n",
      "Downloading: 100%|██████████| 1/1 [00:02<00:00,  2.89s/rows]\n"
     ]
    },
    {
     "data": {
      "text/html": [
       "<div>\n",
       "<style scoped>\n",
       "    .dataframe tbody tr th:only-of-type {\n",
       "        vertical-align: middle;\n",
       "    }\n",
       "\n",
       "    .dataframe tbody tr th {\n",
       "        vertical-align: top;\n",
       "    }\n",
       "\n",
       "    .dataframe thead th {\n",
       "        text-align: right;\n",
       "    }\n",
       "</style>\n",
       "<table border=\"1\" class=\"dataframe\">\n",
       "  <thead>\n",
       "    <tr style=\"text-align: right;\">\n",
       "      <th></th>\n",
       "      <th>earliest_designation</th>\n",
       "      <th>average_update_date</th>\n",
       "      <th>latest_Update</th>\n",
       "    </tr>\n",
       "  </thead>\n",
       "  <tbody>\n",
       "    <tr>\n",
       "      <th>0</th>\n",
       "      <td>1970-01-01</td>\n",
       "      <td>2012.755828</td>\n",
       "      <td>2022-09-30</td>\n",
       "    </tr>\n",
       "  </tbody>\n",
       "</table>\n",
       "</div>"
      ],
      "text/plain": [
       "  earliest_designation  average_update_date latest_Update\n",
       "0           1970-01-01          2012.755828    2022-09-30"
      ]
     },
     "execution_count": 22,
     "metadata": {},
     "output_type": "execute_result"
    }
   ],
   "source": [
    "%%bigquery\n",
    "#data summary regarding time aspect of dataset\n",
    "SELECT MIN(HPSA_Designation_Date) AS earliest_designation, \n",
    "AVG(EXTRACT(YEAR FROM (HPSA_Designation_Last_Update_Date))) AS average_update_date,\n",
    "MAX(HPSA_Designation_Last_Update_Date) AS latest_Update\n",
    "FROM `ba775-fall22-a10.health_workforce_shortage_areas.hpsa`;"
   ]
  },
  {
   "cell_type": "code",
   "execution_count": null,
   "id": "4f478412-c366-4e5d-a697-e1a74b75041b",
   "metadata": {},
   "outputs": [
    {
     "name": "stderr",
     "output_type": "stream",
     "text": [
      "Query complete after 0.00s: 100%|██████████| 2/2 [00:00<00:00, 491.42query/s]                         \n",
      "Downloading: 100%|██████████| 1/1 [00:02<00:00,  2.72s/rows]\n"
     ]
    },
    {
     "data": {
      "text/html": [
       "<div>\n",
       "<style scoped>\n",
       "    .dataframe tbody tr th:only-of-type {\n",
       "        vertical-align: middle;\n",
       "    }\n",
       "\n",
       "    .dataframe tbody tr th {\n",
       "        vertical-align: top;\n",
       "    }\n",
       "\n",
       "    .dataframe thead th {\n",
       "        text-align: right;\n",
       "    }\n",
       "</style>\n",
       "<table border=\"1\" class=\"dataframe\">\n",
       "  <thead>\n",
       "    <tr style=\"text-align: right;\">\n",
       "      <th></th>\n",
       "      <th>average_Update_date_Designated</th>\n",
       "    </tr>\n",
       "  </thead>\n",
       "  <tbody>\n",
       "    <tr>\n",
       "      <th>0</th>\n",
       "      <td>2021.175658</td>\n",
       "    </tr>\n",
       "  </tbody>\n",
       "</table>\n",
       "</div>"
      ],
      "text/plain": [
       "   average_Update_date_Designated\n",
       "0                     2021.175658"
      ]
     },
     "execution_count": 24,
     "metadata": {},
     "output_type": "execute_result"
    }
   ],
   "source": [
    "%%bigquery\n",
    "#filtering for active designated facilities\n",
    "SELECT AVG(EXTRACT (YEAR FROM HPSA_Designation_Last_Update_Date)) AS average_Update_date_Designated\n",
    "FROM `ba775-fall22-a10.health_workforce_shortage_areas.hpsa`\n",
    "WHERE HPSA_Status = \"Designated\""
   ]
  },
  {
   "cell_type": "code",
   "execution_count": null,
   "id": "77debc29-8dec-4f6f-899d-67e2d05e763a",
   "metadata": {},
   "outputs": [
    {
     "name": "stderr",
     "output_type": "stream",
     "text": [
      "Query complete after 0.01s: 100%|██████████| 3/3 [00:00<00:00, 1614.64query/s]                        \n",
      "Downloading: 100%|██████████| 6/6 [00:01<00:00,  4.11rows/s]\n"
     ]
    },
    {
     "data": {
      "text/html": [
       "<div>\n",
       "<style scoped>\n",
       "    .dataframe tbody tr th:only-of-type {\n",
       "        vertical-align: middle;\n",
       "    }\n",
       "\n",
       "    .dataframe tbody tr th {\n",
       "        vertical-align: top;\n",
       "    }\n",
       "\n",
       "    .dataframe thead th {\n",
       "        text-align: right;\n",
       "    }\n",
       "</style>\n",
       "<table border=\"1\" class=\"dataframe\">\n",
       "  <thead>\n",
       "    <tr style=\"text-align: right;\">\n",
       "      <th></th>\n",
       "      <th>Designation_decade</th>\n",
       "      <th>num_designations</th>\n",
       "    </tr>\n",
       "  </thead>\n",
       "  <tbody>\n",
       "    <tr>\n",
       "      <th>0</th>\n",
       "      <td>2020s</td>\n",
       "      <td>9913</td>\n",
       "    </tr>\n",
       "    <tr>\n",
       "      <th>1</th>\n",
       "      <td>2010s</td>\n",
       "      <td>16953</td>\n",
       "    </tr>\n",
       "    <tr>\n",
       "      <th>2</th>\n",
       "      <td>2000s</td>\n",
       "      <td>12452</td>\n",
       "    </tr>\n",
       "    <tr>\n",
       "      <th>3</th>\n",
       "      <td>1990s</td>\n",
       "      <td>8687</td>\n",
       "    </tr>\n",
       "    <tr>\n",
       "      <th>4</th>\n",
       "      <td>1980s</td>\n",
       "      <td>7918</td>\n",
       "    </tr>\n",
       "    <tr>\n",
       "      <th>5</th>\n",
       "      <td>1970s</td>\n",
       "      <td>9019</td>\n",
       "    </tr>\n",
       "  </tbody>\n",
       "</table>\n",
       "</div>"
      ],
      "text/plain": [
       "  Designation_decade  num_designations\n",
       "0              2020s              9913\n",
       "1              2010s             16953\n",
       "2              2000s             12452\n",
       "3              1990s              8687\n",
       "4              1980s              7918\n",
       "5              1970s              9019"
      ]
     },
     "execution_count": 1,
     "metadata": {},
     "output_type": "execute_result"
    }
   ],
   "source": [
    "%%bigquery\n",
    "#dividing designation date to decades\n",
    "SELECT \n",
    "CASE\n",
    "WHEN EXTRACT(YEAR FROM HPSA_Designation_Date) >=2020 THEN '2020s'\n",
    "WHEN EXTRACT(YEAR FROM HPSA_Designation_Date) >=2010 THEN '2010s'\n",
    "WHEN EXTRACT(YEAR FROM HPSA_Designation_Date) >=2000 THEN '2000s'\n",
    "WHEN EXTRACT(YEAR FROM HPSA_Designation_Date) >=1990 THEN '1990s'\n",
    "WHEN EXTRACT(YEAR FROM HPSA_Designation_Date) >=1980 THEN '1980s'\n",
    "WHEN EXTRACT(YEAR FROM HPSA_Designation_Date) >=1970 THEN '1970s'\n",
    "ELSE '<1970' END Designation_decade,\n",
    "COUNT(HPSA_ID) AS num_designations\n",
    "FROM `ba775-fall22-a10.health_workforce_shortage_areas.hpsa` \n",
    "GROUP BY Designation_decade\n",
    "ORDER BY Designation_decade DESC"
   ]
  },
  {
   "cell_type": "code",
   "execution_count": null,
   "id": "4d7049e8-e985-493c-b432-861a807898b2",
   "metadata": {},
   "outputs": [
    {
     "name": "stderr",
     "output_type": "stream",
     "text": [
      "Query complete after 0.00s: 100%|██████████| 3/3 [00:00<00:00, 1664.41query/s]                        \n",
      "Downloading: 100%|██████████| 6/6 [00:01<00:00,  4.32rows/s]\n"
     ]
    },
    {
     "data": {
      "text/html": [
       "<div>\n",
       "<style scoped>\n",
       "    .dataframe tbody tr th:only-of-type {\n",
       "        vertical-align: middle;\n",
       "    }\n",
       "\n",
       "    .dataframe tbody tr th {\n",
       "        vertical-align: top;\n",
       "    }\n",
       "\n",
       "    .dataframe thead th {\n",
       "        text-align: right;\n",
       "    }\n",
       "</style>\n",
       "<table border=\"1\" class=\"dataframe\">\n",
       "  <thead>\n",
       "    <tr style=\"text-align: right;\">\n",
       "      <th></th>\n",
       "      <th>Years_from_designation_to_withdrawal</th>\n",
       "      <th>count_occasions</th>\n",
       "    </tr>\n",
       "  </thead>\n",
       "  <tbody>\n",
       "    <tr>\n",
       "      <th>0</th>\n",
       "      <td>0-5 years</td>\n",
       "      <td>23688</td>\n",
       "    </tr>\n",
       "    <tr>\n",
       "      <th>1</th>\n",
       "      <td>5-10 years</td>\n",
       "      <td>13495</td>\n",
       "    </tr>\n",
       "    <tr>\n",
       "      <th>2</th>\n",
       "      <td>10-15 years</td>\n",
       "      <td>8460</td>\n",
       "    </tr>\n",
       "    <tr>\n",
       "      <th>3</th>\n",
       "      <td>15-20 years</td>\n",
       "      <td>8203</td>\n",
       "    </tr>\n",
       "    <tr>\n",
       "      <th>4</th>\n",
       "      <td>25+ years</td>\n",
       "      <td>6793</td>\n",
       "    </tr>\n",
       "    <tr>\n",
       "      <th>5</th>\n",
       "      <td>20-25 years</td>\n",
       "      <td>4303</td>\n",
       "    </tr>\n",
       "  </tbody>\n",
       "</table>\n",
       "</div>"
      ],
      "text/plain": [
       "  Years_from_designation_to_withdrawal  count_occasions\n",
       "0                            0-5 years            23688\n",
       "1                           5-10 years            13495\n",
       "2                          10-15 years             8460\n",
       "3                          15-20 years             8203\n",
       "4                            25+ years             6793\n",
       "5                          20-25 years             4303"
      ]
     },
     "execution_count": 7,
     "metadata": {},
     "output_type": "execute_result"
    }
   ],
   "source": [
    "%%bigquery\n",
    "#duration of designation(designation to withdrawal/current_date) by categories\n",
    "SELECT CASE\n",
    "WHEN (EXTRACT(DAY FROM (IFNULL(Withdrawn_Date,CURRENT_DATE) - HPSA_Designation_Date))/365) <= 5 THEN '0-5 years'\n",
    "WHEN (EXTRACT(DAY FROM (IFNULL(Withdrawn_Date,CURRENT_DATE) - HPSA_Designation_Date))/365) <= 10 THEN '5-10 years'\n",
    "WHEN (EXTRACT(DAY FROM (IFNULL(Withdrawn_Date,CURRENT_DATE) - HPSA_Designation_Date))/365) <= 15 THEN '10-15 years'\n",
    "WHEN (EXTRACT(DAY FROM (IFNULL(Withdrawn_Date,CURRENT_DATE) - HPSA_Designation_Date))/365) <= 20 THEN '15-20 years'\n",
    "WHEN (EXTRACT(DAY FROM (IFNULL(Withdrawn_Date,CURRENT_DATE) - HPSA_Designation_Date))/365) <= 25 THEN '20-25 years'\n",
    "WHEN (EXTRACT(DAY FROM (IFNULL(Withdrawn_Date,CURRENT_DATE) - HPSA_Designation_Date))/365) <= 60 THEN '25+ years'\n",
    "ELSE 'Unknown' END AS Years_from_designation_to_withdrawal,\n",
    "COUNT(HPSA_ID) AS count_occasions\n",
    "FROM `ba775-fall22-a10.health_workforce_shortage_areas.hpsa`\n",
    "WHERE HPSA_Designation_Date IS NOT NULL\n",
    "GROUP BY Years_from_designation_to_withdrawal\n",
    "ORDER BY count_occasions DESC"
   ]
  },
  {
   "cell_type": "markdown",
   "id": "18750a77-55b3-45b3-b0d1-7b54e58da46c",
   "metadata": {
    "tags": []
   },
   "source": [
    "### Categorial information: \n",
    "### 1. What are the different designation types?\n",
    "To understand the different designation types, we dug into HRSA's site (link: https://bhw.hrsa.gov/workforce-shortage-areas/shortage-designation), which provides us a brief introduction to different designation types. <br>\n",
    "Definition of different HPSA(Health Professional Shortage Area):\n",
    "- HPSA Population: A shortage of providers for a specific group of people within a defined geographic area (e.g., low-income, migrant farm workers)\n",
    "- Geographic HPSA: A shortage of providers for an entire group of people within a defined geographic area\n",
    "- Facility HPSA: Rural Health Clinic, Federally Qualified Health Center, etc.\n",
    "\n",
    "### 2. What are the differences and counts of disciplines  of the facilities? \n",
    "The facilities are divided into 3 categories: __primary care__, __dental care__, and __mental health__. Our data only includes primary care facilities."
   ]
  },
  {
   "cell_type": "code",
   "execution_count": null,
   "id": "c58907ed-292e-490e-8453-aeca190fe73a",
   "metadata": {},
   "outputs": [
    {
     "name": "stderr",
     "output_type": "stream",
     "text": [
      "Query complete after 0.00s: 100%|██████████| 3/3 [00:00<00:00, 1271.13query/s]                        \n",
      "Downloading: 100%|██████████| 9/9 [00:01<00:00,  5.79rows/s]\n"
     ]
    },
    {
     "data": {
      "text/html": [
       "<div>\n",
       "<style scoped>\n",
       "    .dataframe tbody tr th:only-of-type {\n",
       "        vertical-align: middle;\n",
       "    }\n",
       "\n",
       "    .dataframe tbody tr th {\n",
       "        vertical-align: top;\n",
       "    }\n",
       "\n",
       "    .dataframe thead th {\n",
       "        text-align: right;\n",
       "    }\n",
       "</style>\n",
       "<table border=\"1\" class=\"dataframe\">\n",
       "  <thead>\n",
       "    <tr style=\"text-align: right;\">\n",
       "      <th></th>\n",
       "      <th>Designation_Type</th>\n",
       "      <th>n_Designation</th>\n",
       "    </tr>\n",
       "  </thead>\n",
       "  <tbody>\n",
       "    <tr>\n",
       "      <th>0</th>\n",
       "      <td>HPSA Population</td>\n",
       "      <td>30561</td>\n",
       "    </tr>\n",
       "    <tr>\n",
       "      <th>1</th>\n",
       "      <td>Geographic HPSA</td>\n",
       "      <td>23194</td>\n",
       "    </tr>\n",
       "    <tr>\n",
       "      <th>2</th>\n",
       "      <td>High Needs Geographic HPSA</td>\n",
       "      <td>4327</td>\n",
       "    </tr>\n",
       "    <tr>\n",
       "      <th>3</th>\n",
       "      <td>Rural Health Clinic</td>\n",
       "      <td>2655</td>\n",
       "    </tr>\n",
       "    <tr>\n",
       "      <th>4</th>\n",
       "      <td>Federally Qualified Health Center</td>\n",
       "      <td>1577</td>\n",
       "    </tr>\n",
       "    <tr>\n",
       "      <th>5</th>\n",
       "      <td>Indian Health Service, Tribal Health, and Urba...</td>\n",
       "      <td>1146</td>\n",
       "    </tr>\n",
       "    <tr>\n",
       "      <th>6</th>\n",
       "      <td>Correctional Facility</td>\n",
       "      <td>962</td>\n",
       "    </tr>\n",
       "    <tr>\n",
       "      <th>7</th>\n",
       "      <td>Federally Qualified Health Center Look A Like</td>\n",
       "      <td>272</td>\n",
       "    </tr>\n",
       "    <tr>\n",
       "      <th>8</th>\n",
       "      <td>Other Facility</td>\n",
       "      <td>248</td>\n",
       "    </tr>\n",
       "  </tbody>\n",
       "</table>\n",
       "</div>"
      ],
      "text/plain": [
       "                                    Designation_Type  n_Designation\n",
       "0                                    HPSA Population          30561\n",
       "1                                    Geographic HPSA          23194\n",
       "2                         High Needs Geographic HPSA           4327\n",
       "3                                Rural Health Clinic           2655\n",
       "4                  Federally Qualified Health Center           1577\n",
       "5  Indian Health Service, Tribal Health, and Urba...           1146\n",
       "6                              Correctional Facility            962\n",
       "7      Federally Qualified Health Center Look A Like            272\n",
       "8                                     Other Facility            248"
      ]
     },
     "execution_count": 2,
     "metadata": {},
     "output_type": "execute_result"
    }
   ],
   "source": [
    "%%bigquery\n",
    "SELECT Designation_Type, COUNT(Designation_Type) n_Designation\n",
    "FROM `ba775-fall22-a10.health_workforce_shortage_areas.hpsa`\n",
    "GROUP BY Designation_Type\n",
    "ORDER BY n_Designation DESC"
   ]
  },
  {
   "cell_type": "code",
   "execution_count": null,
   "id": "dfda9d53-6bd7-4056-ae7c-c859516e6705",
   "metadata": {},
   "outputs": [
    {
     "name": "stderr",
     "output_type": "stream",
     "text": [
      "Query complete after 0.00s: 100%|██████████| 1/1 [00:00<00:00, 871.82query/s] \n",
      "Downloading: 100%|██████████| 1/1 [00:03<00:00,  3.45s/rows]\n"
     ]
    },
    {
     "data": {
      "text/html": [
       "<div>\n",
       "<style scoped>\n",
       "    .dataframe tbody tr th:only-of-type {\n",
       "        vertical-align: middle;\n",
       "    }\n",
       "\n",
       "    .dataframe tbody tr th {\n",
       "        vertical-align: top;\n",
       "    }\n",
       "\n",
       "    .dataframe thead th {\n",
       "        text-align: right;\n",
       "    }\n",
       "</style>\n",
       "<table border=\"1\" class=\"dataframe\">\n",
       "  <thead>\n",
       "    <tr style=\"text-align: right;\">\n",
       "      <th></th>\n",
       "      <th>HPSA_Discipline_Class</th>\n",
       "    </tr>\n",
       "  </thead>\n",
       "  <tbody>\n",
       "    <tr>\n",
       "      <th>0</th>\n",
       "      <td>Primary Care</td>\n",
       "    </tr>\n",
       "  </tbody>\n",
       "</table>\n",
       "</div>"
      ],
      "text/plain": [
       "  HPSA_Discipline_Class\n",
       "0          Primary Care"
      ]
     },
     "execution_count": 6,
     "metadata": {},
     "output_type": "execute_result"
    }
   ],
   "source": [
    "%%bigquery\n",
    "SELECT HPSA_Discipline_Class\n",
    "FROM `ba775-fall22-a10.health_workforce_shortage_areas.after_cleaning_last_33_result`\n",
    "GROUP BY HPSA_Discipline_Class\n",
    "#we decided to remove this column from our data because all values are \"Primary Care\""
   ]
  },
  {
   "cell_type": "code",
   "execution_count": null,
   "id": "ff886025-65f1-45e0-85f9-6bd6927287b9",
   "metadata": {},
   "outputs": [],
   "source": []
  }
 ],
 "metadata": {
  "environment": {
   "kernel": "",
   "name": "common-cpu.m97",
   "type": "gcloud",
   "uri": "gcr.io/deeplearning-platform-release/base-cpu:m97"
  },
  "kernelspec": {
   "display_name": "",
   "name": ""
  },
  "language_info": {
   "name": ""
  }
 },
 "nbformat": 4,
 "nbformat_minor": 5
}
